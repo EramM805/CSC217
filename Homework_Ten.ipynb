{
 "cells": [
  {
   "cell_type": "code",
   "execution_count": 57,
   "metadata": {},
   "outputs": [],
   "source": [
    "import numpy as np\n",
    "import scipy.stats as stats\n",
    "import matplotlib.pyplot as plt\n",
    "import pandas as pd\n",
    "import seaborn as sns\n",
    "import os\n",
    "import sys\n",
    "sys.path.append(os.path.abspath(os.path.join(os.getcwd(), '../utils')))\n",
    "import _utils as utils\n",
    "%matplotlib inline"
   ]
  },
  {
   "cell_type": "markdown",
   "metadata": {},
   "source": [
    "Halloween may be over but my favorite time of year is here - when candy is heavily discounted after Halloween! Let's look at a dataset that looks at how much people like different candies."
   ]
  },
  {
   "cell_type": "code",
   "execution_count": 4,
   "metadata": {},
   "outputs": [
    {
     "data": {
      "text/html": [
       "<div>\n",
       "<style scoped>\n",
       "    .dataframe tbody tr th:only-of-type {\n",
       "        vertical-align: middle;\n",
       "    }\n",
       "\n",
       "    .dataframe tbody tr th {\n",
       "        vertical-align: top;\n",
       "    }\n",
       "\n",
       "    .dataframe thead th {\n",
       "        text-align: right;\n",
       "    }\n",
       "</style>\n",
       "<table border=\"1\" class=\"dataframe\">\n",
       "  <thead>\n",
       "    <tr style=\"text-align: right;\">\n",
       "      <th></th>\n",
       "      <th>competitorname</th>\n",
       "      <th>chocolate</th>\n",
       "      <th>fruity</th>\n",
       "      <th>caramel</th>\n",
       "      <th>peanutyalmondy</th>\n",
       "      <th>nougat</th>\n",
       "      <th>crispedricewafer</th>\n",
       "      <th>hard</th>\n",
       "      <th>bar</th>\n",
       "      <th>pluribus</th>\n",
       "      <th>sugarpercent</th>\n",
       "      <th>pricepercent</th>\n",
       "      <th>winpercent</th>\n",
       "    </tr>\n",
       "  </thead>\n",
       "  <tbody>\n",
       "    <tr>\n",
       "      <th>0</th>\n",
       "      <td>100 Grand</td>\n",
       "      <td>1</td>\n",
       "      <td>0</td>\n",
       "      <td>1</td>\n",
       "      <td>0</td>\n",
       "      <td>0</td>\n",
       "      <td>1</td>\n",
       "      <td>0</td>\n",
       "      <td>1</td>\n",
       "      <td>0</td>\n",
       "      <td>0.732</td>\n",
       "      <td>0.860</td>\n",
       "      <td>66.971725</td>\n",
       "    </tr>\n",
       "    <tr>\n",
       "      <th>1</th>\n",
       "      <td>3 Musketeers</td>\n",
       "      <td>1</td>\n",
       "      <td>0</td>\n",
       "      <td>0</td>\n",
       "      <td>0</td>\n",
       "      <td>1</td>\n",
       "      <td>0</td>\n",
       "      <td>0</td>\n",
       "      <td>1</td>\n",
       "      <td>0</td>\n",
       "      <td>0.604</td>\n",
       "      <td>0.511</td>\n",
       "      <td>67.602936</td>\n",
       "    </tr>\n",
       "    <tr>\n",
       "      <th>2</th>\n",
       "      <td>One dime</td>\n",
       "      <td>0</td>\n",
       "      <td>0</td>\n",
       "      <td>0</td>\n",
       "      <td>0</td>\n",
       "      <td>0</td>\n",
       "      <td>0</td>\n",
       "      <td>0</td>\n",
       "      <td>0</td>\n",
       "      <td>0</td>\n",
       "      <td>0.011</td>\n",
       "      <td>0.116</td>\n",
       "      <td>32.261086</td>\n",
       "    </tr>\n",
       "    <tr>\n",
       "      <th>3</th>\n",
       "      <td>One quarter</td>\n",
       "      <td>0</td>\n",
       "      <td>0</td>\n",
       "      <td>0</td>\n",
       "      <td>0</td>\n",
       "      <td>0</td>\n",
       "      <td>0</td>\n",
       "      <td>0</td>\n",
       "      <td>0</td>\n",
       "      <td>0</td>\n",
       "      <td>0.011</td>\n",
       "      <td>0.511</td>\n",
       "      <td>46.116505</td>\n",
       "    </tr>\n",
       "    <tr>\n",
       "      <th>4</th>\n",
       "      <td>Air Heads</td>\n",
       "      <td>0</td>\n",
       "      <td>1</td>\n",
       "      <td>0</td>\n",
       "      <td>0</td>\n",
       "      <td>0</td>\n",
       "      <td>0</td>\n",
       "      <td>0</td>\n",
       "      <td>0</td>\n",
       "      <td>0</td>\n",
       "      <td>0.906</td>\n",
       "      <td>0.511</td>\n",
       "      <td>52.341465</td>\n",
       "    </tr>\n",
       "  </tbody>\n",
       "</table>\n",
       "</div>"
      ],
      "text/plain": [
       "  competitorname  chocolate  fruity  caramel  peanutyalmondy  nougat  \\\n",
       "0      100 Grand          1       0        1               0       0   \n",
       "1   3 Musketeers          1       0        0               0       1   \n",
       "2       One dime          0       0        0               0       0   \n",
       "3    One quarter          0       0        0               0       0   \n",
       "4      Air Heads          0       1        0               0       0   \n",
       "\n",
       "   crispedricewafer  hard  bar  pluribus  sugarpercent  pricepercent  \\\n",
       "0                 1     0    1         0         0.732         0.860   \n",
       "1                 0     0    1         0         0.604         0.511   \n",
       "2                 0     0    0         0         0.011         0.116   \n",
       "3                 0     0    0         0         0.011         0.511   \n",
       "4                 0     0    0         0         0.906         0.511   \n",
       "\n",
       "   winpercent  \n",
       "0   66.971725  \n",
       "1   67.602936  \n",
       "2   32.261086  \n",
       "3   46.116505  \n",
       "4   52.341465  "
      ]
     },
     "execution_count": 4,
     "metadata": {},
     "output_type": "execute_result"
    }
   ],
   "source": [
    "df = pd.read_csv('https://github.com/fivethirtyeight/data/raw/master/candy-power-ranking/candy-data.csv')\n",
    "df.head()"
   ]
  },
  {
   "cell_type": "markdown",
   "metadata": {},
   "source": [
    "Each row in the dataset is a different candy. There are several categorial variables marked as either 1 or 0 that lets us know whether a certain candy fits in that category (1 being yes and 0 being no). For example, 100 grand has chocolate in it while Air Heads do not."
   ]
  },
  {
   "cell_type": "markdown",
   "metadata": {},
   "source": [
    "1) How many candies are in this dataset?"
   ]
  },
  {
   "cell_type": "code",
   "execution_count": 34,
   "metadata": {},
   "outputs": [
    {
     "name": "stdout",
     "output_type": "stream",
     "text": [
      "There are  79 candies in this dataset\n"
     ]
    }
   ],
   "source": [
    "CandyCount = 0\n",
    "for idx, val in enumerate(df[\"competitorname\"]):\n",
    "    if(df[\"chocolate\"][idx] == 1 or df[\"fruity\"][idx] == 1 or df[\"caramel\"][idx] == 1 or df[\"peanutyalmondy\"][idx] ==1 or df[\"nougat\"][idx] ==1 or df[\"crispedricewafer\"][idx] == 1):\n",
    "        CandyCount += 1\n",
    "print(\"There are \", CandyCount, \"candies in this dataset\")"
   ]
  },
  {
   "cell_type": "markdown",
   "metadata": {},
   "source": [
    "2) How many candies have chocolate in them? How many don't?"
   ]
  },
  {
   "cell_type": "code",
   "execution_count": 35,
   "metadata": {},
   "outputs": [
    {
     "name": "stdout",
     "output_type": "stream",
     "text": [
      "There are  37 candies that have chocolate in them\n",
      "There are 42 candies that don't have chocolate in them\n"
     ]
    }
   ],
   "source": [
    "count = 0\n",
    "for idx, val in enumerate(df[\"competitorname\"]):\n",
    "    if(df[\"chocolate\"][idx] == 1):\n",
    "        count += 1\n",
    "print(\"There are \", count, \"candies that have chocolate in them\")\n",
    "print(\"There are\", CandyCount-count, \"candies that don't have chocolate in them\")"
   ]
  },
  {
   "cell_type": "markdown",
   "metadata": {},
   "source": [
    "3) Let's call the last column - the 'winpercent' column - equivalent to an approval rating for a given candy.\n",
    "\n",
    "What is the mean 'approval rating' for candies with chocolate? What is the mean 'approval rating' for candies without chocolate? What is the difference in these mean approval ratings (with chocolate minus without chocolate)?"
   ]
  },
  {
   "cell_type": "code",
   "execution_count": 47,
   "metadata": {},
   "outputs": [
    {
     "name": "stdout",
     "output_type": "stream",
     "text": [
      "The mean 'approval rating' for candies with chocolate is 60.9215294054054\n",
      "The mean 'approval rating' for candies without chocolate 42.142257\n",
      "The difference in these mean approval ratings is  18.7792724054054\n"
     ]
    }
   ],
   "source": [
    "chocolate_winners = df[df['chocolate'] == 1]['winpercent']\n",
    "non_chocolate_winners = df[df['chocolate'] == 0]['winpercent']\n",
    "chocolate_winners_mean = np.mean(chocolate_winners)\n",
    "non_chocolate_winners_mean = np.mean(non_chocolate_winners)\n",
    "print(\"The mean 'approval rating' for candies with chocolate is\", chocolate_winners_mean)\n",
    "print(\"The mean 'approval rating' for candies without chocolate\",non_chocolate_winners_mean)\n",
    "print(\"The difference in these mean approval ratings is \", chocolate_winners_mean - non_chocolate_winners_mean)"
   ]
  },
  {
   "cell_type": "markdown",
   "metadata": {},
   "source": [
    "4) Say that we want to see if there is a *difference* in approval rating between candies with chocolates and candies without chocolates. In this case, what is our null hypothesis and our alternate hypothesis?"
   ]
  },
  {
   "cell_type": "markdown",
   "metadata": {},
   "source": [
    "null hypothesis : There is no difference in approval rating between candies with chocolates and candies without chocolates.\n",
    "alternate hypothesis: There is a difference in approval rating between candies with chocolates and candies without chocolates."
   ]
  },
  {
   "cell_type": "markdown",
   "metadata": {},
   "source": [
    "5) Now run a boostrapping example using 10,000 simulations. Use np.random.seed(42) to ensure consistency if you run again. Concatenate the chocolate approval ratings and non-chocolate approval ratings, shuffle them, and then break out new chocolate approval ratings and non-chocolate approval ratings, similar to what we did last week in class (**note that you can use the bootstrap_mean_diff function we covered this week in the class for running a bootstrap**). Record the mean difference between the chocolate approval ratings and non-chocolate approval ratings.\n",
    "\n",
    "Plot a histogram of the 10,000 simulated differences recorded. What is the average simulated difference?"
   ]
  },
  {
   "cell_type": "code",
   "execution_count": 54,
   "metadata": {},
   "outputs": [
    {
     "name": "stdout",
     "output_type": "stream",
     "text": [
      "The average stimulated difference is -0.005051429525618676\n"
     ]
    },
    {
     "data": {
      "image/png": "[encoded data removed]",
      "text/plain": [
       "<Figure size 720x720 with 1 Axes>"
      ]
     },
     "metadata": {
      "needs_background": "light"
     },
     "output_type": "display_data"
    }
   ],
   "source": [
    "diff = utils.bootstrap_mean_diff(chocolate_winners, non_chocolate_winners)\n",
    "fig = plt.figure(figsize=(10,10))\n",
    "plt.hist(diff, bins=50)\n",
    "plt.xlabel('Diff Between Candies With Chocolates and Candies Without Chocolates.')\n",
    "plt.ylabel('Count')\n",
    "fig.suptitle('Bootstrap Distribution of Difference Between Approval Ratings', fontsize=15, y=0.92)\n",
    "print(\"The average stimulated difference is\", np.mean(diff))"
   ]
  },
  {
   "cell_type": "markdown",
   "metadata": {},
   "source": [
    "6) Say you are running a two-tailed hypothesis test, where the null hypothesis is that there is no difference in the approval rating for chocolate candies and non-chocolate candies, and the alternate hypothesis is that there is a difference in the approval rating.\n",
    "\n",
    "If the test is at the 0.05 significance level, what are the rejection regions?\n",
    "\n",
    "Where do the results you found earlier fit into the distribution? What is the percentile value? What is the p-value (remember, two-tailed)?\n",
    "\n",
    "Can we reject the null hypothesis?"
   ]
  },
  {
   "cell_type": "code",
   "execution_count": 52,
   "metadata": {},
   "outputs": [
    {
     "data": {
      "text/plain": [
       "-6.242496532446511"
      ]
     },
     "execution_count": 52,
     "metadata": {},
     "output_type": "execute_result"
    }
   ],
   "source": [
    "np.percentile(diff, 2.5)"
   ]
  },
  {
   "cell_type": "code",
   "execution_count": 55,
   "metadata": {},
   "outputs": [
    {
     "data": {
      "text/plain": [
       "6.322172290118249"
      ]
     },
     "execution_count": 55,
     "metadata": {},
     "output_type": "execute_result"
    }
   ],
   "source": [
    "np.percentile(diff, 97.5)"
   ]
  },
  {
   "cell_type": "markdown",
   "metadata": {},
   "source": [
    "We'll reject our null hypothesis if our value is less than -6.242496532446511 or greater than 6.322172290118249"
   ]
  },
  {
   "cell_type": "markdown",
   "metadata": {},
   "source": [
    "7) Now let's use what we've learned the past two weeks. Plot a scatter plot between the percentage of sugar for *all* candies and the approval rating for *all* candies. What does the relationship look like? Do you think we need to transform the response variable?"
   ]
  },
  {
   "cell_type": "code",
   "execution_count": 61,
   "metadata": {},
   "outputs": [
    {
     "data": {
      "text/plain": [
       "Text(0.5, 0.92, 'Swarm Plot of the X Variable')"
      ]
     },
     "execution_count": 61,
     "metadata": {},
     "output_type": "execute_result"
    },
    {
     "data": {
      "image/png": "[encoded data removed]",
      "text/plain": [
       "<Figure size 720x720 with 1 Axes>"
      ]
     },
     "metadata": {
      "needs_background": "light"
     },
     "output_type": "display_data"
    }
   ],
   "source": [
    "fig = plt.figure(figsize=(10,10))\n",
    "sns.swarmplot(df['winpercent'])\n",
    "plt.xlabel('Approval Ratings of All Candies')\n",
    "plt.ylabel('Count')\n",
    "fig.suptitle('Swarm Plot of the X Variable', fontsize=15, y=0.92)"
   ]
  },
  {
   "cell_type": "markdown",
   "metadata": {},
   "source": [
    "No, we do not need to transform the response variable"
   ]
  },
  {
   "cell_type": "markdown",
   "metadata": {},
   "source": [
    "8) What is the covariance between these two variables? What is the correlation? What does the correlation indicate about the strength of the relationship? Is the correlation statistically significant at a significance level of 0.05? (Note you do NOT have to calculate this, it is in the correlation output via stats.pearsonr)"
   ]
  },
  {
   "cell_type": "code",
   "execution_count": 67,
   "metadata": {},
   "outputs": [
    {
     "name": "stdout",
     "output_type": "stream",
     "text": [
      "Covariance: 4.616192081937718\n",
      "Pearson Correlation: 0.6365167485397067\n"
     ]
    }
   ],
   "source": [
    "df['chocolate_Deviation'] = df['chocolate'] - df['chocolate'].mean()\n",
    "df['Approval_Deviation'] = df['winpercent'] - df['winpercent'].mean()\n",
    "df['chocolate_Diff * Approval_Diff'] = df['chocolate_Deviation'] * df['Approval_Deviation']\n",
    "print('Covariance:', np.round(df['chocolate_Diff * Approval_Diff'].mean(), 84))\n",
    "print('Pearson Correlation:', np.round(stats.pearsonr(df['chocolate'], df['winpercent'])[0], 84))"
   ]
  },
  {
   "cell_type": "markdown",
   "metadata": {},
   "source": [
    "The strength of the relationship is not that strong. No, it is not statistically significant at a significance level of 0.05."
   ]
  },
  {
   "cell_type": "markdown",
   "metadata": {},
   "source": [
    "9) Using the 'evaluate linear relationship' package we found in class this week, find the slope, intercept, prediction and residuals for this relationship (with 'sugarpercent' being the X variable or independent variable and 'winpercent' being the Y variable or dependent variable. Re-plot the scatterplot with the predictive slope on top of it like we did in class."
   ]
  },
  {
   "cell_type": "code",
   "execution_count": 80,
   "metadata": {},
   "outputs": [
    {
     "name": "stdout",
     "output_type": "stream",
     "text": [
      "Slope: 12.25652916243316\n",
      "intercept: 44.51704312956554\n",
      "predictions: 0     53.488822\n",
      "1     51.919986\n",
      "2     44.651865\n",
      "3     44.651865\n",
      "4     55.621459\n",
      "5     50.216329\n",
      "6     51.919986\n",
      "7     48.353337\n",
      "8     55.621459\n",
      "9     51.919986\n",
      "10    51.919986\n",
      "11    53.488822\n",
      "12    45.080843\n",
      "13    53.488822\n",
      "14    53.488822\n",
      "15    46.073622\n",
      "16    53.488822\n",
      "17    55.621459\n",
      "18    50.216329\n",
      "19    50.216329\n",
      "20    50.216329\n",
      "21    50.216329\n",
      "22    46.073622\n",
      "23    49.787351\n",
      "24    49.787351\n",
      "25    49.787351\n",
      "26    45.656900\n",
      "27    46.931579\n",
      "28    48.353337\n",
      "29    47.213480\n",
      "        ...    \n",
      "54    56.626494\n",
      "55    53.488822\n",
      "56    55.057658\n",
      "57    53.488822\n",
      "58    55.204736\n",
      "59    47.213480\n",
      "60    56.050437\n",
      "61    56.050437\n",
      "62    47.789536\n",
      "63    47.789536\n",
      "64    51.209108\n",
      "65    51.919986\n",
      "66    45.362744\n",
      "67    45.362744\n",
      "68    46.367779\n",
      "69    51.491008\n",
      "70    56.344593\n",
      "71    49.640272\n",
      "72    46.502601\n",
      "73    51.919986\n",
      "74    51.919986\n",
      "75    48.353337\n",
      "76    46.649679\n",
      "77    50.216329\n",
      "78    48.353337\n",
      "79    51.209108\n",
      "80    47.213480\n",
      "81    45.656900\n",
      "82    48.353337\n",
      "83    46.796758\n",
      "Name: sugarpercent, Length: 84, dtype: float64\n",
      "residuals: 0     13.482903\n",
      "1     15.682950\n",
      "2    -12.390779\n",
      "3      1.464640\n",
      "4     -3.279994\n",
      "5      0.131217\n",
      "6      4.994561\n",
      "7    -24.935513\n",
      "8    -17.610496\n",
      "9    -17.402305\n",
      "10   -12.944949\n",
      "11   -17.471194\n",
      "12   -20.555855\n",
      "13   -11.216746\n",
      "14   -14.028266\n",
      "15    -2.984698\n",
      "16   -14.303317\n",
      "17    -8.838111\n",
      "18     6.903411\n",
      "19   -16.057371\n",
      "20     1.196101\n",
      "21    -8.037557\n",
      "22     9.301832\n",
      "23    12.497130\n",
      "24     6.703150\n",
      "25     9.448771\n",
      "26   -17.529461\n",
      "27    10.287671\n",
      "28    28.415263\n",
      "29    -5.823923\n",
      "        ...    \n",
      "54    16.261407\n",
      "55   -18.198066\n",
      "56    10.658628\n",
      "57   -23.785131\n",
      "58   -12.355592\n",
      "59   -12.491480\n",
      "60     7.034703\n",
      "61    -0.946742\n",
      "62    -9.902348\n",
      "63    -1.793709\n",
      "64    25.464674\n",
      "65     7.609265\n",
      "66    14.501254\n",
      "67     7.463203\n",
      "68    20.669849\n",
      "69   -16.912017\n",
      "70   -22.907043\n",
      "71   -17.409277\n",
      "72   -19.198736\n",
      "73     2.941125\n",
      "74    -2.937335\n",
      "75    -5.284440\n",
      "76    -0.912931\n",
      "77    -0.562826\n",
      "78    -1.180108\n",
      "79    30.433806\n",
      "80    -1.747198\n",
      "81    -6.645002\n",
      "82    -3.977818\n",
      "83    -4.892450\n",
      "Length: 84, dtype: float64\n"
     ]
    }
   ],
   "source": [
    "xValues = df['sugarpercent'][:84]\n",
    "yValues = df['winpercent'][:84]\n",
    "slope = np.cov(xValues, yValues, bias=True)[0][1] / np.var(xValues)\n",
    "intercept = np.mean(yValues) - (slope * np.mean(xValues))\n",
    "predictions = (slope * xValues) + intercept\n",
    "residuals = yValues - predictions\n",
    "print('Slope:', slope)\n",
    "print('intercept:', intercept)\n",
    "print('predictions:', predictions)\n",
    "print('residuals:', residuals)\n"
   ]
  },
  {
   "cell_type": "code",
   "execution_count": 81,
   "metadata": {},
   "outputs": [
    {
     "data": {
      "text/plain": [
       "Text(0.5, 0.92, 'Winpercent vs Sugar')"
      ]
     },
     "execution_count": 81,
     "metadata": {},
     "output_type": "execute_result"
    },
    {
     "data": {
      "image/png": "[encoded data removed]",
      "text/plain": [
       "<Figure size 720x720 with 1 Axes>"
      ]
     },
     "metadata": {
      "needs_background": "light"
     },
     "output_type": "display_data"
    }
   ],
   "source": [
    "fig = plt.figure(figsize=(10,10))\n",
    "plt.scatter(xValues, yValues)\n",
    "sorted_order = np.argsort(xValues)\n",
    "plt.plot(xValues[sorted_order], predictions[sorted_order])\n",
    "plt.xlabel('Sugar')\n",
    "plt.ylabel('Winpercent')\n",
    "fig.suptitle('Winpercent vs Sugar', fontsize=15, y=0.92)"
   ]
  },
  {
   "cell_type": "markdown",
   "metadata": {},
   "source": [
    "10) Now plot the residuals for the model like we did in class."
   ]
  },
  {
   "cell_type": "code",
   "execution_count": 82,
   "metadata": {},
   "outputs": [
    {
     "data": {
      "text/plain": [
       "Text(0.5, 0.92, 'Residuals')"
      ]
     },
     "execution_count": 82,
     "metadata": {},
     "output_type": "execute_result"
    },
    {
     "data": {
      "image/png": "[encoded data removed]",
      "text/plain": [
       "<Figure size 720x720 with 1 Axes>"
      ]
     },
     "metadata": {
      "needs_background": "light"
     },
     "output_type": "display_data"
    }
   ],
   "source": [
    "fig = plt.figure(figsize=(10,10))\n",
    "plt.scatter(xValues, residuals)\n",
    "plt.plot([0, xValues.max()], [0,0], linestyle='dotted')\n",
    "plt.xlabel('Sugar')\n",
    "plt.ylabel('Residuals')\n",
    "fig.suptitle('Residuals', fontsize=15, y=0.92)"
   ]
  },
  {
   "cell_type": "markdown",
   "metadata": {},
   "source": [
    "11) What is the R-squared value of the relationship between these two variables? What does this say when considered with the correlation of the two variables? (Consider what this plot looks like versus like the plots we went over in class)"
   ]
  },
  {
   "cell_type": "code",
   "execution_count": 83,
   "metadata": {},
   "outputs": [
    {
     "data": {
      "text/plain": [
       "0.05483272320389323"
      ]
     },
     "execution_count": 83,
     "metadata": {},
     "output_type": "execute_result"
    }
   ],
   "source": [
    "np.var(predictions) / np.var(df['winpercent'])"
   ]
  },
  {
   "cell_type": "markdown",
   "metadata": {},
   "source": [
    "There is no correlation of the two variables."
   ]
  },
  {
   "cell_type": "markdown",
   "metadata": {},
   "source": [
    "BONUS: 12) Say we wanted to run the earlier hypothesis test (approval rating of chocolates vs. non-chocolates) with a two-sample T-test rather than a bootstrap test. \n",
    "\n",
    "Find the proper parameters for the T-distribution to test our null hypothesis. What is the mean, standard deviation, and degrees of freedom of our null hypothesis?"
   ]
  },
  {
   "cell_type": "code",
   "execution_count": 84,
   "metadata": {},
   "outputs": [
    {
     "name": "stdout",
     "output_type": "stream",
     "text": [
      "Pooled Variance: 6.24\n",
      "Pooled Standard Deviation: 2.5\n"
     ]
    }
   ],
   "source": [
    "def custom_pooled_variance(a, b):\n",
    "    return ((((len(a) - 1) * np.var(a, ddof=1)) + ((len(b) - 1) * np.var(b, ddof=1))) / (len(a) + len(b) - 2)) * ((1/len(a)) + 1/len(b))\n",
    "pooled_var = custom_pooled_variance(chocolate_winners, non_chocolate_winners)\n",
    "print('Pooled Variance:', np.round(pooled_var, 2))\n",
    "print('Pooled Standard Deviation:', np.round(np.sqrt(pooled_var), 2))"
   ]
  },
  {
   "cell_type": "code",
   "execution_count": 86,
   "metadata": {},
   "outputs": [
    {
     "name": "stdout",
     "output_type": "stream",
     "text": [
      "83\n"
     ]
    }
   ],
   "source": [
    "degreesOfFreedome = len(chocolate_winners) + len(non_chocolate_winners) - 2\n",
    "print(degreesOfFreedome)"
   ]
  },
  {
   "cell_type": "code",
   "execution_count": 87,
   "metadata": {},
   "outputs": [
    {
     "data": {
      "text/plain": [
       "18.7792724054054"
      ]
     },
     "execution_count": 87,
     "metadata": {},
     "output_type": "execute_result"
    }
   ],
   "source": [
    "np.mean(chocolate_winners) - np.mean(non_chocolate_winners)"
   ]
  },
  {
   "cell_type": "markdown",
   "metadata": {},
   "source": [
    "BONUS: 13) At a signifiance level of 0.05, what are the rejection region (s?) of our distribution? Make a plot highlighting these rejection region (s?) in red."
   ]
  },
  {
   "cell_type": "code",
   "execution_count": 90,
   "metadata": {},
   "outputs": [
    {
     "data": {
      "text/plain": [
       "-5.247376745896654"
      ]
     },
     "execution_count": 90,
     "metadata": {},
     "output_type": "execute_result"
    }
   ],
   "source": [
    "dist.ppf(0.025)"
   ]
  },
  {
   "cell_type": "code",
   "execution_count": 91,
   "metadata": {},
   "outputs": [
    {
     "data": {
      "text/plain": [
       "5.247376745896654"
      ]
     },
     "execution_count": 91,
     "metadata": {},
     "output_type": "execute_result"
    }
   ],
   "source": [
    "dist.ppf(0.975)"
   ]
  },
  {
   "cell_type": "code",
   "execution_count": 89,
   "metadata": {},
   "outputs": [
    {
     "name": "stdout",
     "output_type": "stream",
     "text": [
      "Rejection Region: Less than -5.25\n",
      "Rejection Region: Less than 5.25\n"
     ]
    },
    {
     "data": {
      "text/plain": [
       "Text(0.5, 0.92, 'T-Distribution of Difference Between Samples')"
      ]
     },
     "execution_count": 89,
     "metadata": {},
     "output_type": "execute_result"
    },
    {
     "data": {
      "image/png": "[encoded data removed]",
      "text/plain": [
       "<Figure size 720x720 with 1 Axes>"
      ]
     },
     "metadata": {
      "needs_background": "light"
     },
     "output_type": "display_data"
    }
   ],
   "source": [
    "dist = stats.t(loc=0, scale=np.sqrt(pooled_var), df=83)\n",
    "dist = stats.t(loc=0, scale=np.sqrt(pooled_var), df=18)\n",
    "print('Rejection Region: Less than', np.round(dist.ppf(0.025), 2))\n",
    "print('Rejection Region: Less than', np.round(dist.ppf(0.975), 2))\n",
    "fig = plt.figure(figsize=(10,10))\n",
    "x = np.linspace(dist.ppf(0.0001), dist.ppf(0.9999), 100)\n",
    "plt.plot(x, dist.pdf(x))\n",
    "plt.plot([dist.ppf(0.025), dist.ppf(0.025)],[0, dist.pdf(dist.ppf(0.025))], linestyle='dotted', color='#1f77b4')\n",
    "X_fill = np.linspace(dist.ppf(0.0001), dist.ppf(0.025))\n",
    "Y = dist.pdf(X_fill)\n",
    "plt.fill_between(X_fill, 0, Y, facecolor='red')\n",
    "plt.plot([dist.ppf(0.975), dist.ppf(0.975)],[0, dist.pdf(dist.ppf(0.975))], linestyle='dotted', color='#1f77b4')\n",
    "X_fill = np.linspace(dist.ppf(0.975), dist.ppf(0.9999))\n",
    "Y = dist.pdf(X_fill)\n",
    "plt.fill_between(X_fill, 0, Y, facecolor='red')\n",
    "plt.ylim(bottom=0)\n",
    "plt.xlabel('Difference in Sample Means')\n",
    "plt.ylabel('Probability Density Function')\n",
    "fig.suptitle('T-Distribution of Difference Between Samples', fontsize=15, y=0.92)"
   ]
  },
  {
   "cell_type": "markdown",
   "metadata": {},
   "source": [
    "The rejection region is anything that falls below -5.247376745896654 and above 5.247376745896654"
   ]
  },
  {
   "cell_type": "markdown",
   "metadata": {},
   "source": [
    "BONUS: 14) At a significance level of 0.05, can we reject the null hypothesis? What is the p-value of our observed difference?"
   ]
  },
  {
   "cell_type": "code",
   "execution_count": 97,
   "metadata": {},
   "outputs": [
    {
     "data": {
      "text/plain": [
       "5.861293330688966e-07"
      ]
     },
     "execution_count": 97,
     "metadata": {},
     "output_type": "execute_result"
    }
   ],
   "source": [
    "(1 - dist.cdf(18.7792724054054))*2"
   ]
  },
  {
   "cell_type": "markdown",
   "metadata": {},
   "source": [
    "Yes, we can reject the null hypothesis."
   ]
  }
 ],
 "metadata": {
  "kernelspec": {
   "display_name": "Python 3",
   "language": "python",
   "name": "python3"
  },
  "language_info": {
   "codemirror_mode": {
    "name": "ipython",
    "version": 3
   },
   "file_extension": ".py",
   "mimetype": "text/x-python",
   "name": "python",
   "nbconvert_exporter": "python",
   "pygments_lexer": "ipython3",
   "version": "3.7.3"
  }
 },
 "nbformat": 4,
 "nbformat_minor": 2
}
