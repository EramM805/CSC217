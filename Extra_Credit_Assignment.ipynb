{
 "cells": [
  {
   "cell_type": "markdown",
   "metadata": {},
   "source": [
    "This submission can get you up to 5 extra points on your midterm. It is due November 6th at 6:30 PM sharp - nothing submitted after that will be accepted. Please submit it to my email with the subject 'Extra Credit Assignment \\#1'"
   ]
  },
  {
   "cell_type": "code",
   "execution_count": 2,
   "metadata": {},
   "outputs": [],
   "source": [
    "import scipy.stats as stats\n",
    "import numpy as np"
   ]
  },
  {
   "cell_type": "markdown",
   "metadata": {},
   "source": [
    "1. Say that we flip 10 coins 100 times. What is the expected number of times we will see 0 - 10 heads in our simulation? (i.e. we'll see 5 heads 100 times, or 0 heads 20 times and 10 heads 80 times)"
   ]
  },
  {
   "cell_type": "code",
   "execution_count": 4,
   "metadata": {},
   "outputs": [
    {
     "name": "stdout",
     "output_type": "stream",
     "text": [
      "We will see 0 heads 0 times\n",
      "We will see 1 heads 1 times\n",
      "We will see 2 heads 4 times\n",
      "We will see 3 heads 12 times\n",
      "We will see 4 heads 21 times\n",
      "We will see 5 heads 25 times\n",
      "We will see 6 heads 21 times\n",
      "We will see 7 heads 12 times\n",
      "We will see 8 heads 4 times\n",
      "We will see 9 heads 1 times\n",
      "We will see 10 heads 0 times\n"
     ]
    }
   ],
   "source": [
    "np.random.seed(42)\n",
    "dist = stats.binom(n=10, p=0.5)\n",
    "results = dist.rvs(size=100)\n",
    "for i in range(11):\n",
    "    print(\"We will see\", i, \"heads\", int(round(dist.pmf(i)*100)), \"times\")"
   ]
  },
  {
   "cell_type": "markdown",
   "metadata": {},
   "source": [
    "2. Now say I have the below observation. At a signifiance level of 0.05, can I reject the null hypothesis that the observation comes from the expected distribution?"
   ]
  },
  {
   "cell_type": "code",
   "execution_count": 7,
   "metadata": {},
   "outputs": [
    {
     "data": {
      "text/plain": [
       "16.918977604620448"
      ]
     },
     "execution_count": 7,
     "metadata": {},
     "output_type": "execute_result"
    }
   ],
   "source": [
    "stats.chi2(df=9).ppf(0.95)"
   ]
  },
  {
   "cell_type": "code",
   "execution_count": 8,
   "metadata": {},
   "outputs": [
    {
     "data": {
      "text/plain": [
       "0.0009582277855237908"
      ]
     },
     "execution_count": 8,
     "metadata": {},
     "output_type": "execute_result"
    }
   ],
   "source": [
    "1 - stats.chi2(df=10).cdf(29.702)"
   ]
  },
  {
   "cell_type": "markdown",
   "metadata": {},
   "source": [
    "The p-value for our Chi-square statistic is very close to 0, meaning we can reject the null hypothesis at a significance level of 0.05."
   ]
  },
  {
   "cell_type": "markdown",
   "metadata": {},
   "source": [
    "3. At what value can I reject the null hypothesis?"
   ]
  },
  {
   "cell_type": "markdown",
   "metadata": {},
   "source": [
    "If the value is greater than 16.9 we can reject the null hypothesis."
   ]
  }
 ],
 "metadata": {
  "kernelspec": {
   "display_name": "Python 3",
   "language": "python",
   "name": "python3"
  },
  "language_info": {
   "codemirror_mode": {
    "name": "ipython",
    "version": 3
   },
   "file_extension": ".py",
   "mimetype": "text/x-python",
   "name": "python",
   "nbconvert_exporter": "python",
   "pygments_lexer": "ipython3",
   "version": "3.7.3"
  }
 },
 "nbformat": 4,
 "nbformat_minor": 2
}
